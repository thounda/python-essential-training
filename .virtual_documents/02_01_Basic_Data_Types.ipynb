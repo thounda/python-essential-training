





x = 5


print(x)


x


1x


name = 'Ryan'


type(name)


type(x)





type(1.5)


1.23456789


12345678.9


type(2j)


1j * 1j





'String 1 ' + 'String 2'


'1' + '1'


'1' + 1





True


False


true = True


1 == 1


1 == 2



