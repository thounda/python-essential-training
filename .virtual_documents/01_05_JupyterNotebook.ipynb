





print('Doing some data science!')





print(1 + 1)



